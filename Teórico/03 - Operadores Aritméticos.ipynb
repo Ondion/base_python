{
 "cells": [
  {
   "cell_type": "markdown",
   "metadata": {},
   "source": [
    "<h1 style =\"Text-align: center;\">Operadores Aritméticos</h1>"
   ]
  },
  {
   "cell_type": "markdown",
   "metadata": {},
   "source": [
    "**tipos:**\n",
    " * Inteiros > 1, 5, -4\n",
    " * Floats > 1.5, 5.01, -4.4\n",
    " * Complexos > 1.5j, 4j"
   ]
  },
  {
   "cell_type": "markdown",
   "metadata": {},
   "source": [
    "**Operadores**\n",
    " * Adição > +\n",
    " * Subtração > -\n",
    " * Multiplicação > *\n",
    " * Divisão > /\n",
    " * Potência > **\n",
    " * Divisão inteira > //\n",
    " * Resto da divisão > %  \n",
    "\n",
    " **Exemplos:**"
   ]
  },
  {
   "cell_type": "code",
   "execution_count": 16,
   "metadata": {},
   "outputs": [
    {
     "name": "stdout",
     "output_type": "stream",
     "text": [
      "adição: 10, subtração: 0, multiplicação: 25, divisão: 1.0, potência: 3125, divisão inteira: 2, resto da divisão: 1\n"
     ]
    }
   ],
   "source": [
    "adicao = 5 + 5\n",
    "subtracao = 5 - 5\n",
    "multiplicacao = 5 * 5\n",
    "divisao = 5 / 5\n",
    "potencia = 5 ** 5\n",
    "divisao_inteira = 5 // 2\n",
    "resto_divisao = 5 % 2\n",
    "\n",
    "print(\"adição: {}, subtração: {}, multiplicação: {}, divisão: {}, potência: {}, divisão inteira: {}, resto da divisão: {}\".format(adicao, subtracao, multiplicacao, divisao, potencia, divisao_inteira, resto_divisao))\n"
   ]
  },
  {
   "cell_type": "markdown",
   "metadata": {},
   "source": [
    "**Ordem de precedência**\n",
    "1. () parênteses\n",
    "1. Potências **\n",
    "1. Multiplicação, divisão, divisão inteira, resto da divisão (*, /, //, %)\n",
    "1. Soma, subtração, + e -"
   ]
  },
  {
   "cell_type": "markdown",
   "metadata": {},
   "source": [
    "É possivel \"multiplicar string\", conforme exemplo abaixo:"
   ]
  },
  {
   "cell_type": "code",
   "execution_count": 19,
   "metadata": {},
   "outputs": [
    {
     "data": {
      "text/plain": [
       "'string string string '"
      ]
     },
     "execution_count": 19,
     "metadata": {},
     "output_type": "execute_result"
    }
   ],
   "source": [
    "\"string \" * 3"
   ]
  },
  {
   "cell_type": "markdown",
   "metadata": {},
   "source": []
  }
 ],
 "metadata": {
  "interpreter": {
   "hash": "916dbcbb3f70747c44a77c7bcd40155683ae19c65e1c03b4aa3499c5328201f1"
  },
  "kernelspec": {
   "display_name": "Python 3.8.10 64-bit",
   "language": "python",
   "name": "python3"
  },
  "language_info": {
   "codemirror_mode": {
    "name": "ipython",
    "version": 3
   },
   "file_extension": ".py",
   "mimetype": "text/x-python",
   "name": "python",
   "nbconvert_exporter": "python",
   "pygments_lexer": "ipython3",
   "version": "3.8.10"
  },
  "orig_nbformat": 4
 },
 "nbformat": 4,
 "nbformat_minor": 2
}

{
 "cells": [
  {
   "cell_type": "markdown",
   "metadata": {},
   "source": [
    "Indrodução ao Python\n",
    "Builtin Function\n",
    "Tratando Strings\n",
    "Números\n",
    "Modulos\n",
    "Condições\n",
    "Repetições\n",
    "Erros\n",
    "Variaveis"
   ]
  }
 ],
 "metadata": {
  "language_info": {
   "name": "python"
  },
  "orig_nbformat": 4
 },
 "nbformat": 4,
 "nbformat_minor": 2
}

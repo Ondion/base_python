{
 "cells": [
  {
   "cell_type": "markdown",
   "metadata": {},
   "source": [
    "<h1 style =\"Text-align: center;\">Módulos e Importação</h1>"
   ]
  },
  {
   "cell_type": "markdown",
   "metadata": {},
   "source": [
    "No Python usamos o comando `import` mais o nome do módulo que desejamos importar, porém existe mais de uma manera de chamar esses blocos e também, mais de uma maneira de usa-los no programa.\n",
    "**Exemplos:**"
   ]
  },
  {
   "cell_type": "markdown",
   "metadata": {},
   "source": [
    "**\"import math\"** - Sintaxe para chamar o bloco math e incorporar todo seu conteudo ao código. *_Exemplo:_*  \n",
    "math.function(parâmetro)  \n",
    "  \n",
    "**\"from math import function\"** - Sintaxe para chamar apenas uma das funções do módulo, neste caso caso, não sera mais necessário usar o bloco na chamada da função. *_Exemplo:_*  \n",
    "function(parâmetro)  \n",
    "\n",
    "**\"from math import function_a, function_b\"** - *_Sintaxe para chamar duas ou mais funções, respeitando as particularidades conforme chamada no exemplo anterior._*  \n",
    "\n",
    "\n",
    "**\"from math import * \"** - Sintaxe para chamar todas as funções de um módulo, com a diferença de não ser necessário chamar o nome do bloco na chamada da função. *_Exemplos:_*  \n",
    "function(parâmetro)"
   ]
  },
  {
   "cell_type": "markdown",
   "metadata": {},
   "source": [
    "**pip install**  \n",
    "Instalador padrão do python"
   ]
  },
  {
   "cell_type": "markdown",
   "metadata": {},
   "source": [
    "## Lista de módulos importante  \n",
    " * math - Biblioteca de funções matemáticas."
   ]
  }
 ],
 "metadata": {
  "language_info": {
   "name": "python"
  },
  "orig_nbformat": 4
 },
 "nbformat": 4,
 "nbformat_minor": 2
}
